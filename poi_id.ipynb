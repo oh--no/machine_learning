{
 "cells": [
  {
   "cell_type": "code",
   "execution_count": 2,
   "metadata": {
    "collapsed": false
   },
   "outputs": [
    {
     "data": {
      "text/plain": [
       "'\\nQuestions\\n1. need more data other than final_project_dataset.pkl?\\n2. need to create a new data_dict with only the features I need? How to choose?\\n3. split the feature data into training and testing data? use provided code to split features and labels, and the CV to\\nsplit training and testing.\\n4. need to visualize data? No\\n\\n'"
      ]
     },
     "execution_count": 2,
     "metadata": {},
     "output_type": "execute_result"
    }
   ],
   "source": [
    "#!/usr/bin/python\n",
    "import sys\n",
    "import pickle\n",
    "import numpy as np\n",
    "from time import time\n",
    "sys.path.append(\"../tools/\")\n",
    "\n",
    "from feature_format import featureFormat, targetFeatureSplit\n",
    "from tester import dump_classifier_and_data\n",
    "from matplotlib import pyplot as plt\n",
    "from sklearn.pipeline import make_pipeline\n",
    "\n",
    "'''\n",
    "Questions\n",
    "1. need more data other than final_project_dataset.pkl?\n",
    "2. need to create a new data_dict with only the features I need? How to choose?\n",
    "3. split the feature data into training and testing data? use provided code to split features and labels, and the CV to\n",
    "split training and testing.\n",
    "4. need to visualize data? No\n",
    "\n",
    "'''"
   ]
  },
  {
   "cell_type": "code",
   "execution_count": 3,
   "metadata": {
    "collapsed": false
   },
   "outputs": [],
   "source": [
    "### Task 1: Select what features you'll use.\n",
    "### features_list is a list of strings, each of which is a feature name.\n",
    "### The first feature must be \"poi\".\n",
    "features_list = ['poi','salary','to_messages','deferral_payments','total_payments','exercised_stock_options',\n",
    "                'bonus', 'restricted_stock', 'shared_receipt_with_poi', 'restricted_stock_deferred', \n",
    "                 'total_stock_value', 'expenses', 'loan_advances', 'from_messages', 'other', 'from_this_person_to_poi',\n",
    "                 'poi', 'director_fees', 'deferred_income', 'long_term_incentive', \n",
    "                 'from_poi_to_this_person'] # You will need to use more features\n",
    "\n",
    "### Load the dictionary containing the dataset\n",
    "with open(\"final_project_dataset.pkl\", \"r\") as data_file:\n",
    "    data_dict = pickle.load(data_file)\n"
   ]
  },
  {
   "cell_type": "code",
   "execution_count": 4,
   "metadata": {
    "collapsed": false,
    "scrolled": false
   },
   "outputs": [
    {
     "name": "stdout",
     "output_type": "stream",
     "text": [
      "There are 18 POI and 146 person in total. The propotion of POI is 0.12\n"
     ]
    }
   ],
   "source": [
    "### Data exploration\n",
    "# number of data points\n",
    "# propotion of poi\n",
    "pois = 0.0\n",
    "for i in data_dict:\n",
    "    if data_dict[i]['poi'] == True:\n",
    "        pois += 1\n",
    "print 'There are {} POI and {} person in total. The propotion of POI is {}'.format(int(pois), len(data_dict),round(pois / len(data_dict),2))"
   ]
  },
  {
   "cell_type": "code",
   "execution_count": 5,
   "metadata": {
    "collapsed": false
   },
   "outputs": [
    {
     "data": {
      "image/png": "[encoded data removed]",
      "text/plain": [
       "<matplotlib.figure.Figure at 0x8e9cd68>"
      ]
     },
     "metadata": {},
     "output_type": "display_data"
    },
    {
     "name": "stdout",
     "output_type": "stream",
     "text": [
      "LAY KENNETH L 103559793.0\n",
      "TOTAL 309886585.0\n"
     ]
    }
   ],
   "source": [
    "### Task 2: Remove outliers\n",
    "total_payments = []\n",
    "\n",
    "for name in data_dict:\n",
    "    if data_dict[name]['total_payments'] != 'NaN':\n",
    "        total_payments.append(data_dict[name]['total_payments'])\n",
    "payments = np.array(total_payments)\n",
    "average = np.mean(payments)\n",
    "std =  np.std(payments)\n",
    "\n",
    "plt.boxplot(payments)\n",
    "plt.show()\n",
    "\n",
    "# Two points are Kenny and TOTAL, sure the \"TOTAL\" should be an outlier.\n",
    "for name in data_dict:\n",
    "    if float(data_dict[name]['total_payments']) >= 100000000:\n",
    "        print name,float(data_dict[name]['total_payments'])\n",
    "\n",
    "# Remove outlier \"TOTAL\"\n",
    "del data_dict['TOTAL']"
   ]
  },
  {
   "cell_type": "code",
   "execution_count": 6,
   "metadata": {
    "collapsed": false
   },
   "outputs": [
    {
     "name": "stdout",
     "output_type": "stream",
     "text": [
      "TOTAL has been removed\n"
     ]
    }
   ],
   "source": [
    "# Verifying outlier removel.\n",
    "try:\n",
    "    print data_dict['TOTAL']\n",
    "except KeyError:\n",
    "    print 'TOTAL has been removed'"
   ]
  },
  {
   "cell_type": "code",
   "execution_count": 7,
   "metadata": {
    "collapsed": false
   },
   "outputs": [
    {
     "name": "stdout",
     "output_type": "stream",
     "text": [
      "{'to_messages': 4273, 'deferral_payments': 202911, 'expenses': 99832, 'poi': True, 'deferred_income': -300000, 'email_address': 'kenneth.lay@enron.com', 'long_term_incentive': 3600000, 'restricted_stock_deferred': 'NaN', 'shared_receipt_with_poi': 2411, 'loan_advances': 81525000, 'from_messages': 36, 'other': 10359729, 'to_poi_ratio': 0.4444444444444444, 'director_fees': 'NaN', 'bonus': 7000000, 'total_stock_value': 49110078, 'from_poi_to_this_person': 123, 'from_this_person_to_poi': 16, 'from_poi_ratio': 0.028785396676807865, 'restricted_stock': 14761694, 'salary': 1072321, 'total_payments': 103559793, 'exercised_stock_options': 34348384}\n"
     ]
    }
   ],
   "source": [
    "### Task 3: Create new feature(s)\n",
    "from_poi_ratio = 0.0\n",
    "to_poi_ratio = 0.0\n",
    "\n",
    "for name in data_dict:\n",
    "    if data_dict[name]['from_poi_to_this_person'] != 'NaN' and data_dict[name]['to_messages'] != 'NaN':\n",
    "        from_poi_ratio = float(data_dict[name]['from_poi_to_this_person']) / float(data_dict[name]['to_messages'])\n",
    "    else:\n",
    "        from_poi_ratio = 0.0\n",
    "    data_dict[name]['from_poi_ratio'] = from_poi_ratio\n",
    "    \n",
    "    if data_dict[name]['from_this_person_to_poi'] != 'NaN' and data_dict[name]['from_messages'] != 'NaN':\n",
    "        to_poi_ratio = float(data_dict[name]['from_this_person_to_poi']) / float(data_dict[name]['from_messages'])\n",
    "    else:\n",
    "        to_poi_ratio = 0.0\n",
    "    data_dict[name]['to_poi_ratio'] = to_poi_ratio\n",
    "        \n",
    "print data_dict['LAY KENNETH L']"
   ]
  },
  {
   "cell_type": "code",
   "execution_count": 8,
   "metadata": {
    "collapsed": false
   },
   "outputs": [],
   "source": [
    "### Store to my_dataset for easy export below.\n",
    "my_dataset = data_dict"
   ]
  },
  {
   "cell_type": "code",
   "execution_count": 9,
   "metadata": {
    "collapsed": false
   },
   "outputs": [],
   "source": [
    "### Extract features and labels from dataset for local testing\n",
    "data = featureFormat(my_dataset, features_list, sort_keys = True)\n",
    "labels, features = targetFeatureSplit(data)"
   ]
  },
  {
   "cell_type": "code",
   "execution_count": 10,
   "metadata": {
    "collapsed": false
   },
   "outputs": [
    {
     "name": "stdout",
     "output_type": "stream",
     "text": [
      "0.826388888889\n",
      "GaussianNB with no PCA training&predicting time: 0.00500011444092\n"
     ]
    }
   ],
   "source": [
    "### Task 4: Try a varity of classifiers\n",
    "### Please name your classifier clf for easy export below.\n",
    "### Note that if you want to do PCA or other multi-stage operations,\n",
    "### you'll need to use Pipelines. For more info:\n",
    "### http://scikit-learn.org/stable/modules/pipeline.html\n",
    "\n",
    "# Provided to give you a starting point. Try a variety of classifiers.\n",
    "from sklearn.naive_bayes import GaussianNB\n",
    "\n",
    "clf_nb = GaussianNB()\n",
    "t0 = time()\n",
    "clf_nb.fit(features, labels)\n",
    "print clf_nb.score(features,labels)\n",
    "print 'GaussianNB with no PCA training&predicting time:',time()-t0"
   ]
  },
  {
   "cell_type": "code",
   "execution_count": 11,
   "metadata": {
    "collapsed": false
   },
   "outputs": [
    {
     "name": "stdout",
     "output_type": "stream",
     "text": [
      "[ 0.8054696]\n",
      "0.888888888889\n",
      "GaussianNB with no PCA training&predicting time: 0.000999927520752\n",
      "Naive Bayes score is the best when PCA components is set to 1\n"
     ]
    }
   ],
   "source": [
    "# PCA\n",
    "from sklearn.decomposition import RandomizedPCA\n",
    "pca = RandomizedPCA(1).fit(features)\n",
    "print pca.explained_variance_ratio_\n",
    "features_PCA = pca.transform(features)\n",
    "t0 = time()\n",
    "clf_nb_pca = GaussianNB().fit(features_PCA,labels)\n",
    "print clf_nb_pca.score(features_PCA,labels)\n",
    "print 'GaussianNB with no PCA training&predicting time:',time()-t0\n",
    "print \"Naive Bayes score is the best when PCA components is set to 1\""
   ]
  },
  {
   "cell_type": "code",
   "execution_count": 32,
   "metadata": {
    "collapsed": false
   },
   "outputs": [
    {
     "name": "stdout",
     "output_type": "stream",
     "text": [
      "SVM accuracy: 0.875\n",
      "SVM with no PCA training&predicting time: 0.0160000324249\n",
      "0.875\n",
      "It's clear that the model is overfitting.\n"
     ]
    }
   ],
   "source": [
    "# SVM\n",
    "from sklearn.svm import SVC\n",
    "t1 = time()\n",
    "clf_svm = SVC(kernel = 'rbf', C = 0.5).fit(features, labels)\n",
    "print 'SVM accuracy:',clf_svm.score(features,labels)\n",
    "print 'SVM with no PCA training&predicting time:',time()-t1\n",
    "\n",
    "# SVM with PCA\n",
    "pipe = make_pipeline(pca,clf_svm)\n",
    "pipe.fit(features,labels)\n",
    "print pipe.score(features,labels)\n",
    "print 'It\\'s clear that the model is overfitting.'"
   ]
  },
  {
   "cell_type": "code",
   "execution_count": 44,
   "metadata": {
    "collapsed": false
   },
   "outputs": [
    {
     "name": "stdout",
     "output_type": "stream",
     "text": [
      "1.0\n",
      "Decision Tree training&predicting time: 0.010999917984\n",
      "Also overfitted, probably because the dataset is too small.\n"
     ]
    }
   ],
   "source": [
    "# Decision Tree\n",
    "from sklearn.tree import DecisionTreeClassifier\n",
    "clf_dt = DecisionTreeClassifier(min_samples_split = 5)\n",
    "t0 = time()\n",
    "clf_dt.fit(features,labels)\n",
    "print clf_dt.score(features,labels)\n",
    "print 'Decision Tree training&predicting time:',time() - t0\n",
    "print 'Also overfitted, probably because the dataset is too small.'"
   ]
  },
  {
   "cell_type": "code",
   "execution_count": 45,
   "metadata": {
    "collapsed": false
   },
   "outputs": [
    {
     "name": "stdout",
     "output_type": "stream",
     "text": [
      "0.34927510891\n",
      "Lasso regression training&predicting time: 0.423000097275\n"
     ]
    }
   ],
   "source": [
    "# Lasso regression\n",
    "from sklearn.linear_model import Lasso\n",
    "t0 = time()\n",
    "reg_lasso = Lasso().fit(features,labels)\n",
    "print reg_lasso.score(features,labels)\n",
    "print 'Lasso regression training&predicting time:',time() - t0"
   ]
  },
  {
   "cell_type": "code",
   "execution_count": 46,
   "metadata": {
    "collapsed": false
   },
   "outputs": [],
   "source": [
    "### Task 5: Tune your classifier to achieve better than .3 precision and recall \n",
    "### using our testing script. Check the tester.py script in the final project\n",
    "### folder for details on the evaluation method, especially the test_classifier\n",
    "### function. Because of the small size of the dataset, the script uses\n",
    "### stratified shuffle split cross validation. For more info: \n",
    "### http://scikit-learn.org/stable/modules/generated/sklearn.cross_validation.StratifiedShuffleSplit.html\n",
    "\n",
    "# Example starting point. Try investigating other evaluation techniques!\n",
    "\n",
    "from sklearn.cross_validation import train_test_split\n",
    "features_train, features_test, labels_train, labels_test = \\\n",
    "    train_test_split(features, labels, test_size=0.3, random_state=42)\n",
    "\n",
    "from sklearn.grid_search import GridSearchCV\n",
    "\n"
   ]
  },
  {
   "cell_type": "code",
   "execution_count": 43,
   "metadata": {
    "collapsed": false
   },
   "outputs": [
    {
     "name": "stdout",
     "output_type": "stream",
     "text": [
      "0.886363636364\n",
      "SVM training&predicting time: 0.0350000858307\n"
     ]
    }
   ],
   "source": [
    "# Tuning SVM\n",
    "svm_parameters = {'C':[0.5,1,5,10]}\n",
    "svm_clf = SVC()\n",
    "clf = GridSearchCV(svm_clf, svm_parameters)\n",
    "t0 = time()\n",
    "clf.fit(features_train, labels_train)\n",
    "print clf.score(features_test,labels_test)\n",
    "print 'SVM training&predicting time:',time() - t0"
   ]
  },
  {
   "cell_type": "code",
   "execution_count": 42,
   "metadata": {
    "collapsed": false
   },
   "outputs": [
    {
     "name": "stdout",
     "output_type": "stream",
     "text": [
      "1.0\n",
      "Decision tree training&predicting time: 0.0309998989105\n"
     ]
    }
   ],
   "source": [
    "# Tuning Decision Tree\n",
    "dt_parameters = {'min_samples_split':[0.02,2,5,10,50]} #'criterion ':['gini','entropy'],\n",
    "dt_clf = DecisionTreeClassifier()\n",
    "clf = GridSearchCV(dt_clf, dt_parameters)\n",
    "t0 = time()\n",
    "clf.fit(features_train, labels_train)\n",
    "print clf.score(features_test, labels_test)\n",
    "print 'Decision tree training&predicting time:',time() - t0\n",
    "# Seems like the best classifier so far."
   ]
  },
  {
   "cell_type": "code",
   "execution_count": 41,
   "metadata": {
    "collapsed": true
   },
   "outputs": [],
   "source": [
    "### Task 6: Dump your classifier, dataset, and features_list so anyone can\n",
    "### check your results. You do not need to change anything below, but make sure\n",
    "### that the version of poi_id.py that you submit can be run on its own and\n",
    "### generates the necessary .pkl files for validating your results.\n",
    "\n",
    "dump_classifier_and_data(clf, my_dataset, features_list)"
   ]
  }
 ],
 "metadata": {
  "anaconda-cloud": {},
  "kernelspec": {
   "display_name": "Python [default]",
   "language": "python",
   "name": "python2"
  },
  "language_info": {
   "codemirror_mode": {
    "name": "ipython",
    "version": 2
   },
   "file_extension": ".py",
   "mimetype": "text/x-python",
   "name": "python",
   "nbconvert_exporter": "python",
   "pygments_lexer": "ipython2",
   "version": "2.7.12"
  }
 },
 "nbformat": 4,
 "nbformat_minor": 1
}
